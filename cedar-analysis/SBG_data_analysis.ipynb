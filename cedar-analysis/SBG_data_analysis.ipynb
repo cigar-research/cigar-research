{
 "cells": [
  {
   "cell_type": "code",
   "execution_count": 85,
   "metadata": {
    "collapsed": true
   },
   "outputs": [],
   "source": [
    "from importlib import reload\n",
    "import os\n",
    "import numpy as np\n",
    "import matplotlib.pyplot as plt\n",
    "from matplotlib.patches import Rectangle\n",
    "from matplotlib.dates import datestr2num\n",
    "from dateutil import parser\n",
    "import cv2\n",
    "\n",
    "from scipy.optimize import curve_fit\n",
    "\n",
    "%matplotlib inline"
   ]
  },
  {
   "cell_type": "code",
   "execution_count": 95,
   "metadata": {
    "collapsed": false
   },
   "outputs": [],
   "source": [
    "import cedar_videos\n",
    "reload(cedar_videos)\n",
    "from cedar_videos import *\n"
   ]
  },
  {
   "cell_type": "code",
   "execution_count": 87,
   "metadata": {
    "collapsed": false
   },
   "outputs": [],
   "source": [
    "def convert_date_column(c):\n",
    "    return parser.parse(bytes(c.replace(b'\"', b''))).timestamp()\n",
    "\n",
    "SBG_data = np.loadtxt(SBG_data_file, skiprows=4, converters = {0: convert_date_column}, delimiter=',')"
   ]
  },
  {
   "cell_type": "code",
   "execution_count": 88,
   "metadata": {
    "collapsed": false
   },
   "outputs": [
    {
     "data": {
      "text/plain": [
       "(71613, 5)"
      ]
     },
     "execution_count": 88,
     "metadata": {},
     "output_type": "execute_result"
    }
   ],
   "source": [
    "SBG_data.shape"
   ]
  },
  {
   "cell_type": "code",
   "execution_count": 89,
   "metadata": {
    "collapsed": false
   },
   "outputs": [
    {
     "data": {
      "text/plain": [
       "[<matplotlib.lines.Line2D at 0x1145fc470>]"
      ]
     },
     "execution_count": 89,
     "metadata": {},
     "output_type": "execute_result"
    },
    {
     "data": {
      "image/png": "[encoded data removed]",
      "text/plain": [
       "<matplotlib.figure.Figure at 0x115690c18>"
      ]
     },
     "metadata": {},
     "output_type": "display_data"
    }
   ],
   "source": [
    "plt.plot(SBG_data[:,4])\n",
    "plt.plot(SBG_data[:,2])"
   ]
  },
  {
   "cell_type": "code",
   "execution_count": 90,
   "metadata": {
    "collapsed": true
   },
   "outputs": [],
   "source": [
    "diff_ts = np.diff(SBG_data[:,0])"
   ]
  },
  {
   "cell_type": "code",
   "execution_count": 91,
   "metadata": {
    "collapsed": false
   },
   "outputs": [],
   "source": [
    "start_records = np.where(diff_ts > 10)[0]"
   ]
  },
  {
   "cell_type": "code",
   "execution_count": 92,
   "metadata": {
    "collapsed": false
   },
   "outputs": [
    {
     "name": "stdout",
     "output_type": "stream",
     "text": [
      "array([ 8076,  8175,  9611, 11933, 16388, 18427, 21076, 22952, 33265,\n",
      "       35552, 37707, 40327, 42354, 44475, 46780, 49746, 52132, 54115,\n",
      "       56343, 59192, 61581, 63863, 65967, 68120])\n"
     ]
    }
   ],
   "source": [
    "print(repr(start_records))"
   ]
  },
  {
   "cell_type": "code",
   "execution_count": 93,
   "metadata": {
    "collapsed": false
   },
   "outputs": [
    {
     "data": {
      "text/plain": [
       "[<matplotlib.lines.Line2D at 0x115115240>]"
      ]
     },
     "execution_count": 93,
     "metadata": {},
     "output_type": "execute_result"
    },
    {
     "data": {
      "image/png": "[encoded data removed]",
      "text/plain": [
       "<matplotlib.figure.Figure at 0x1151fa2b0>"
      ]
     },
     "metadata": {},
     "output_type": "display_data"
    }
   ],
   "source": [
    "plt.plot(SBG_data[:,0])"
   ]
  },
  {
   "cell_type": "code",
   "execution_count": null,
   "metadata": {
    "collapsed": false
   },
   "outputs": [],
   "source": [
    "# Define model function to be used to fit to the data above:\n",
    "def gauss(x, *p):\n",
    "    A, mu, sigma = p\n",
    "    return A*np.exp(-(x-mu)**2/(2.*sigma**2))\n",
    "\n",
    "# p0 is the initial guess for the fitting coefficients (A, mu and sigma above)\n",
    "p0 = [1., 0., 1.]\n",
    "\n",
    "fit_params = {}\n",
    "\n",
    "for m in SBG_measurements:\n",
    "    s_idx = SBG_records_splits[SBG_data_indices[m]]\n",
    "    e_idx = SBG_records_splits[SBG_data_indices[m]+1]\n",
    "    msmt_SBG_data = SBG_data[s_idx:e_idx,:]\n",
    "    msmt_SBG_data[:,0] -= msmt_SBG_data[0,0]\n",
    "    plt.figure()\n",
    "    plt.plot(msmt_SBG_data[:,0], msmt_SBG_data[:,4])\n",
    "    plt.title(m)\n",
    "    \n",
    "    p0 = [1., 60., 20.]\n",
    "    \n",
    "    coeff, var_matrix = curve_fit(gauss, msmt_SBG_data[:,0], msmt_SBG_data[:,4], p0=p0)\n",
    "    # Get the fitted curve\n",
    "    plot_fit = gauss(msmt_SBG_data[:,0], *coeff)\n",
    "\n",
    "    plt.plot(msmt_SBG_data[:,0], plot_fit)\n",
    "    fit_params[m] = coeff\n",
    "    plt.xlabel(\"time (s)\")\n",
    "    plt.ylabel(\"heat flux (kW/m$^2$)\")\n",
    "    \n",
    "    plt.savefig(\"plots/SBG_traces/SBG_trace_\" + m + \".png\", dpi=300)\n",
    "\n"
   ]
  },
  {
   "cell_type": "code",
   "execution_count": 84,
   "metadata": {
    "collapsed": false
   },
   "outputs": [
    {
     "data": {
      "text/plain": [
       "[<matplotlib.lines.Line2D at 0x118836198>]"
      ]
     },
     "execution_count": 84,
     "metadata": {},
     "output_type": "execute_result"
    },
    {
     "data": {
      "image/png": "[encoded data removed]",
      "text/plain": [
       "<matplotlib.figure.Figure at 0x118810780>"
      ]
     },
     "metadata": {},
     "output_type": "display_data"
    }
   ],
   "source": [
    "plt.plot(fit_params[:,0])"
   ]
  },
  {
   "cell_type": "code",
   "execution_count": null,
   "metadata": {
    "collapsed": true
   },
   "outputs": [],
   "source": []
  }
 ],
 "metadata": {
  "kernelspec": {
   "display_name": "Python [default]",
   "language": "python",
   "name": "python3"
  },
  "language_info": {
   "codemirror_mode": {
    "name": "ipython",
    "version": 3
   },
   "file_extension": ".py",
   "mimetype": "text/x-python",
   "name": "python",
   "nbconvert_exporter": "python",
   "pygments_lexer": "ipython3",
   "version": "3.5.2"
  }
 },
 "nbformat": 4,
 "nbformat_minor": 2
}
